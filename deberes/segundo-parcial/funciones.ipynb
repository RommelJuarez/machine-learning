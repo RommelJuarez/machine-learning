{
 "cells": [
  {
   "cell_type": "markdown",
   "id": "57fa9f36",
   "metadata": {},
   "source": [
    "1. Escribe una función que reciba como entrada una *lista* con números y devuelva como resultado una *lista* con los cuadrados de los números contenidos en la lista de entrada.\n",
    "\n",
    "2. Escribe una función que reciba números como entrada y devuelva la suma de los mismos. La función debe ser capaz de recibir una cantidad indeterminada de números. La función no debe recibir directamente ningún objeto complejo (lista, conjunto, etc.).\n",
    "\n",
    "3. Escribe una función que reciba un string como entrada y devuelva el string al revés. Ejemplo: si el string de entrada es 'hola', el resultado será 'aloh'.\n",
    "\n",
    "4. Escribe una función *lambda* que, al igual que la función desarrollada en el ejercicio anterior, invierta el string recibido como parámetro. Ejemplo: si el string de entrada es 'hola', el resultado será 'aloh'.\n",
    "\n",
    "5. Escribe una función que compruebe si un número se encuentra dentro de un rango específico.\n",
    "\n",
    "6. Escribe una función que reciba un número entero positivo como parámetro y devuelva una lista que contenga los 5 primeros múltiplos de dicho número. Por ejemplo, si la función recibe el número 3, devolverá la lista [3, 6, 9, 12, 15]. Si la función recibe un parámetro incorrecto (por ejemplo, un múmero menor o igual a cero), mostrará un mensaje de error por pantalla y devolverá una lista vacía.\n",
    "\n",
    "7. Escribe una función que reciba una lista como parámetro y compruebe si la lista tiene duplicados. La función devolverá *True* si la lista tiene duplicados y *False* si no los tiene.\n",
    "\n",
    "8. Escribe una función *lambda* que, al igual que la función desarrollada en el ejercicio anterior, reciba una lista como parámetro y compruebe si la lista tiene duplicados. La función devolverá *True* si la lista tiene duplicados y *False* si no los tiene.\n",
    "\n",
    "9. Escribe una función que compruebe si un string dado es un palíndromo. Un palíndromo es una secuencia de caracteres que se lee igual de izquierda a derecha que de derecha a izquierda. Por ejemplo, la función devolverá *True* si recibe el string \"reconocer\" y *False* si recibe el string \"python\"."
   ]
  },
  {
   "cell_type": "code",
   "execution_count": 2,
   "id": "ae9bb9a6",
   "metadata": {},
   "outputs": [
    {
     "name": "stdout",
     "output_type": "stream",
     "text": [
      "[1, 4, 9, 16]\n"
     ]
    }
   ],
   "source": [
    "#1\n",
    "def cuadrados(lista):\n",
    "    return [x**2 for x in lista]\n",
    "\n",
    "print(cuadrados([1, 2, 3, 4]))"
   ]
  },
  {
   "cell_type": "code",
   "execution_count": null,
   "id": "8260cadc",
   "metadata": {},
   "outputs": [],
   "source": [
    "#2\n",
    "def suma(*numeros):\n",
    "    return sum(numeros)\n",
    "\n",
    "print(suma(3, 5, 7))"
   ]
  },
  {
   "cell_type": "code",
   "execution_count": 3,
   "id": "72405d73",
   "metadata": {},
   "outputs": [
    {
     "name": "stdout",
     "output_type": "stream",
     "text": [
      "lemmoR\n"
     ]
    }
   ],
   "source": [
    "#3  \n",
    "def invertir_string(texto):\n",
    "    return texto[::-1]\n",
    "\n",
    "print(invertir_string(\"Rommel\"))"
   ]
  },
  {
   "cell_type": "code",
   "execution_count": 5,
   "id": "8e5bbeed",
   "metadata": {},
   "outputs": [
    {
     "name": "stdout",
     "output_type": "stream",
     "text": [
      "zerauJ\n"
     ]
    }
   ],
   "source": [
    "#4\n",
    "invertir_lambda = lambda texto: texto[::-1]\n",
    "print(invertir_lambda(\"Juarez\"))"
   ]
  },
  {
   "cell_type": "code",
   "execution_count": 6,
   "id": "214d746b",
   "metadata": {},
   "outputs": [
    {
     "name": "stdout",
     "output_type": "stream",
     "text": [
      "True\n",
      "False\n"
     ]
    }
   ],
   "source": [
    "#5\n",
    "def en_rango(numero, inicio, fin):\n",
    "    return inicio <= numero <= fin\n",
    "print(en_rango(5, 1, 10))  \n",
    "print(en_rango(15, 1, 10))"
   ]
  },
  {
   "cell_type": "code",
   "execution_count": null,
   "id": "e753c7a2",
   "metadata": {},
   "outputs": [
    {
     "name": "stdout",
     "output_type": "stream",
     "text": [
      "[3, 6, 9, 12, 15]\n",
      "Error: número debe ser mayor que cero\n",
      "[]\n"
     ]
    }
   ],
   "source": [
    "#6\n",
    "def multiplos(numero):\n",
    "    if numero > 0:\n",
    "        return [numero * i for i in range(1, 6)]\n",
    "    else:\n",
    "        print(\"Error: numero debe ser mayor que cero\")\n",
    "        return []\n",
    "print(multiplos(3))  \n",
    "print(multiplos(0))"
   ]
  },
  {
   "cell_type": "code",
   "execution_count": 8,
   "id": "37dcba88",
   "metadata": {},
   "outputs": [
    {
     "name": "stdout",
     "output_type": "stream",
     "text": [
      "False\n",
      "True\n"
     ]
    }
   ],
   "source": [
    "#7\n",
    "def tiene_duplicados(lista):\n",
    "    return len(lista) != len(set(lista))\n",
    "\n",
    "print(tiene_duplicados([1, 2, 3, 4]))  \n",
    "print(tiene_duplicados([1, 2, 2, 3]))"
   ]
  },
  {
   "cell_type": "code",
   "execution_count": 10,
   "id": "f608c712",
   "metadata": {},
   "outputs": [
    {
     "name": "stdout",
     "output_type": "stream",
     "text": [
      "False\n",
      "True\n"
     ]
    }
   ],
   "source": [
    "#8\n",
    "duplicados_lambda = lambda lista: len(lista) != len(set(lista))\n",
    "print(duplicados_lambda([1, 2, 3]))  \n",
    "print(duplicados_lambda([1, 1, 2]))"
   ]
  },
  {
   "cell_type": "code",
   "execution_count": 9,
   "id": "87fdba47",
   "metadata": {},
   "outputs": [
    {
     "name": "stdout",
     "output_type": "stream",
     "text": [
      "True\n",
      "False\n"
     ]
    }
   ],
   "source": [
    "#9\n",
    "def es_palindromo(texto):\n",
    "    return texto == texto[::-1]\n",
    "\n",
    "print(es_palindromo(\"reconocer\"))  \n",
    "print(es_palindromo(\"python\")) "
   ]
  }
 ],
 "metadata": {
  "kernelspec": {
   "display_name": ".venv",
   "language": "python",
   "name": "python3"
  },
  "language_info": {
   "codemirror_mode": {
    "name": "ipython",
    "version": 3
   },
   "file_extension": ".py",
   "mimetype": "text/x-python",
   "name": "python",
   "nbconvert_exporter": "python",
   "pygments_lexer": "ipython3",
   "version": "3.11.9"
  }
 },
 "nbformat": 4,
 "nbformat_minor": 5
}
