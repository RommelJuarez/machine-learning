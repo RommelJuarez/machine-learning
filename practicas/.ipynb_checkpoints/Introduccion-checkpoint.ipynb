{
 "cells": [
  {
   "cell_type": "markdown",
   "id": "e0dd45cf-d352-4856-9481-2c4e0465165f",
   "metadata": {},
   "source": [
    "# Introducción\n",
    "\n",
    "**Rommel Juarez**, clase introductoria"
   ]
  },
  {
   "cell_type": "code",
   "execution_count": null,
   "id": "36a7d693-7193-4c00-b455-aa4fad17ec2e",
   "metadata": {},
   "outputs": [],
   "source": [
    "print(\"Hola desde el notebook xd\")"
   ]
  }
 ],
 "metadata": {
  "kernelspec": {
   "display_name": "Python [conda env:base] *",
   "language": "python",
   "name": "conda-base-py"
  },
  "language_info": {
   "codemirror_mode": {
    "name": "ipython",
    "version": 3
   },
   "file_extension": ".py",
   "mimetype": "text/x-python",
   "name": "python",
   "nbconvert_exporter": "python",
   "pygments_lexer": "ipython3",
   "version": "3.13.5"
  }
 },
 "nbformat": 4,
 "nbformat_minor": 5
}
