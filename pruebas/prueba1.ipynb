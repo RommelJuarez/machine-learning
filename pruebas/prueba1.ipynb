{
 "cells": [
  {
   "cell_type": "code",
   "execution_count": null,
   "id": "5e618d41",
   "metadata": {},
   "outputs": [
    {
     "name": "stdout",
     "output_type": "stream",
     "text": [
      "Estudiante: rommel Promedio: 7.50, APROBADO\n",
      "Chao\n"
     ]
    }
   ],
   "source": [
    "estudiantes = {}\n",
    "try:\n",
    "    while True:\n",
    "        estudiante = input(\"nombre estudiante o 'fin' para salir: \")\n",
    "        if estudiante.lower() == \"fin\":\n",
    "            break\n",
    "        notas = input(\"notas separadas por comas o 'fin' para salir: \")\n",
    "        if notas.lower() == \"fin\":\n",
    "            break\n",
    "        if not all(n.strip().replace('.', '', 1).isdigit() for n in notas.split(',')):\n",
    "            print(\"solo numeros separados por coma\")\n",
    "            continue\n",
    "        notas = [float(nota.strip()) for nota in notas.split(',')]\n",
    "        promedio = sum(notas) / len(notas)\n",
    "        estudiantes[estudiante] = promedio\n",
    "        if promedio >= 9:\n",
    "            print(f\"Estudiante: {estudiante} Promedio: {promedio:.2f}, EXCELENTE\")\n",
    "        elif 6 <= promedio < 9:\n",
    "            print(f\"Estudiante: {estudiante} Promedio: {promedio:.2f}, APROBADO\")\n",
    "        else:\n",
    "            print(f\"Estudiante: {estudiante} Promedio: {promedio:.2f}, REPROBADO\")\n",
    "    if estudiantes:\n",
    "        mejor = max(estudiantes, key=estudiantes.get)\n",
    "        print(f\"Mejor promedio: {mejor} ({estudiantes[mejor]:.2f})\")\n",
    "        print(f\"numero de estudianes: {len(estudiantes)}\")\n",
    "    else:\n",
    "        print(\"no hay estudiantes\")\n",
    "except Exception as e:\n",
    "    print(f\"error: {e}\")"
   ]
  }
 ],
 "metadata": {
  "kernelspec": {
   "display_name": ".venv",
   "language": "python",
   "name": "python3"
  },
  "language_info": {
   "codemirror_mode": {
    "name": "ipython",
    "version": 3
   },
   "file_extension": ".py",
   "mimetype": "text/x-python",
   "name": "python",
   "nbconvert_exporter": "python",
   "pygments_lexer": "ipython3",
   "version": "3.11.9"
  }
 },
 "nbformat": 4,
 "nbformat_minor": 5
}
