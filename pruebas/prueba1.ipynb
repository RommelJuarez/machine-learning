{
 "cells": [
  {
   "cell_type": "code",
   "execution_count": 1,
   "id": "5e618d41",
   "metadata": {},
   "outputs": [
    {
     "name": "stdout",
     "output_type": "stream",
     "text": [
      "Estudiante: rommel Promedio: 7.50, APROBADO\n",
      "Chao\n"
     ]
    }
   ],
   "source": [
    "try:\n",
    "    while True:\n",
    "        estudiante = input(\"Nombre del estudiante o 'FIN' para salir: \")\n",
    "        if (estudiante.lower()== \"fin\") :\n",
    "            print(\"Chao\")\n",
    "            break\n",
    "        notas = input(\"Notas del estudiante separadas por comas o 'FIN' para salir: \")\n",
    "        if (notas.lower() == \"fin\"):\n",
    "            print(\"Chao\")\n",
    "            break\n",
    "        elif not notas.replace(',', '').replace('.', '').isdigit():\n",
    "            print(\"Solo numeros separados por comas\")\n",
    "            continue\n",
    "        else:\n",
    "            notas = [float(nota) for nota in notas.split(',')]\n",
    "            promedio = sum(notas) / len(notas)\n",
    "            if promedio >=9:\n",
    "                print(f\"Estudiante: {estudiante} Promedio: {promedio:.2f}, EXCELENTE\")\n",
    "            elif promedio >=6 and promedio <= 8.99:\n",
    "                print(f\"Estudiante: {estudiante} Promedio: {promedio:.2f}, APROBADO\")\n",
    "            elif promedio <6:\n",
    "                print(f\"Estudiante: {estudiante} Promedio: {promedio:.2f}, REPROBADO\")\n",
    "except Exception as e:\n",
    "    print(f\"Ha ocurrido un error: {e}\")\n",
    "\n"
   ]
  }
 ],
 "metadata": {
  "kernelspec": {
   "display_name": ".venv",
   "language": "python",
   "name": "python3"
  },
  "language_info": {
   "codemirror_mode": {
    "name": "ipython",
    "version": 3
   },
   "file_extension": ".py",
   "mimetype": "text/x-python",
   "name": "python",
   "nbconvert_exporter": "python",
   "pygments_lexer": "ipython3",
   "version": "3.11.9"
  }
 },
 "nbformat": 4,
 "nbformat_minor": 5
}
